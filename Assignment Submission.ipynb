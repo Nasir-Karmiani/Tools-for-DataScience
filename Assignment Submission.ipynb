{
 "cells": [
  {
   "cell_type": "markdown",
   "id": "5c54bab7-6ca0-4df2-bb81-1c0ef155b5d4",
   "metadata": {},
   "source": [
    "# My Jupyter Notebook on IBM Watson Studio"
   ]
  },
  {
   "cell_type": "markdown",
   "id": "2f6372b9-ee47-4a9f-a0be-af3bc6cf793d",
   "metadata": {},
   "source": [
    "***Nasir Karmiani***\n",
    "\n",
    "Data Scientist and Machine Learning Engineer"
   ]
  },
  {
   "cell_type": "markdown",
   "id": "6f637d92-a2aa-43b3-8614-9144cea37373",
   "metadata": {},
   "source": [
    "*I am interested in data science because i am very curious person*"
   ]
  },
  {
   "cell_type": "markdown",
   "id": "9fce4ddb-e4f4-47d7-95b0-7df1674b0d5e",
   "metadata": {},
   "source": [
    "### The following is Guase Formula"
   ]
  },
  {
   "cell_type": "code",
   "execution_count": 4,
   "id": "6f8cc039-480d-4888-9b9f-a6bd07acadd9",
   "metadata": {},
   "outputs": [
    {
     "data": {
      "text/plain": [
       "True"
      ]
     },
     "execution_count": 4,
     "metadata": {},
     "output_type": "execute_result"
    }
   ],
   "source": [
    "def gauss(n):\n",
    "    return (n*(n+1))/2\n",
    "gauss(100) == sum(range(101))"
   ]
  },
  {
   "cell_type": "markdown",
   "id": "3eea006a-8d19-4ff3-b82c-e684abae39ac",
   "metadata": {},
   "source": [
    "* Oranges\n",
    "* Banana\n",
    "* Apples\n",
    "* Strawberries\n",
    "* Grapfruit"
   ]
  },
  {
   "cell_type": "markdown",
   "id": "c982eeec-b531-44c8-91ba-f019214b2be2",
   "metadata": {},
   "source": [
    "www.ibm.com"
   ]
  },
  {
   "cell_type": "markdown",
   "id": "c627bc18-ae66-493e-8ca4-6bb6eaebf699",
   "metadata": {},
   "source": [
    "| Markdown | less | Pretty |\n",
    "|:----    |:---:|  :----|\n",
    "|`still`|`renders`|`nicely`|"
   ]
  }
 ],
 "metadata": {
  "kernelspec": {
   "display_name": "Python 3 (ipykernel)",
   "language": "python",
   "name": "python3"
  },
  "language_info": {
   "codemirror_mode": {
    "name": "ipython",
    "version": 3
   },
   "file_extension": ".py",
   "mimetype": "text/x-python",
   "name": "python",
   "nbconvert_exporter": "python",
   "pygments_lexer": "ipython3",
   "version": "3.11.1"
  }
 },
 "nbformat": 4,
 "nbformat_minor": 5
}
